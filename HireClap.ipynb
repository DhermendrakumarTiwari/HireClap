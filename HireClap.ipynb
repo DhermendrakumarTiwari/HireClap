{
  "nbformat": 4,
  "nbformat_minor": 0,
  "metadata": {
    "colab": {
      "name": "HireClap.ipynb",
      "provenance": []
    },
    "kernelspec": {
      "name": "python3",
      "display_name": "Python 3"
    },
    "language_info": {
      "name": "python"
    }
  },
  "cells": [
    {
      "cell_type": "markdown",
      "metadata": {
        "id": "ToUmy0fsevG0"
      },
      "source": [
        "## Connect to the SQLite database "
      ]
    },
    {
      "cell_type": "code",
      "metadata": {
        "colab": {
          "base_uri": "https://localhost:8080/"
        },
        "id": "64MHjQ7qeVf7",
        "outputId": "fe9433f1-3d99-4ec1-f185-cc730cf6db6d"
      },
      "source": [
        "import sqlite3\n",
        "\n",
        "con = sqlite3.connect(\":memory:\")\n",
        "cur = con.cursor()\n",
        "cur.execute(\"create table lang (name, first_appeared)\")\n",
        "\n",
        "# This is the qmark style:\n",
        "cur.execute(\"insert into lang values (?, ?)\", (\"C\", 1972))\n",
        "\n",
        "# The qmark style used with executemany():\n",
        "lang_list = [\n",
        "    (\"Fortran\", 1957),\n",
        "    (\"Python\", 1991),\n",
        "    (\"Go\", 2009),\n",
        "]\n",
        "cur.executemany(\"insert into lang values (?, ?)\", lang_list)\n",
        "\n",
        "# And this is the named style:\n",
        "cur.execute(\"select * from lang where first_appeared=:year\", {\"year\": 1972})\n",
        "print(cur.fetchall())\n",
        "\n",
        "con.close()"
      ],
      "execution_count": 1,
      "outputs": [
        {
          "output_type": "stream",
          "name": "stdout",
          "text": [
            "[('C', 1972)]\n"
          ]
        }
      ]
    },
    {
      "cell_type": "markdown",
      "metadata": {
        "id": "eBcwUhT1ez8S"
      },
      "source": [
        "## Creating a new SQLite database"
      ]
    },
    {
      "cell_type": "code",
      "metadata": {
        "colab": {
          "base_uri": "https://localhost:8080/"
        },
        "id": "LS2RxxKpeZVO",
        "outputId": "ac4a6013-eebf-4f1e-bd6f-18958f3be27b"
      },
      "source": [
        "import sqlite3\n",
        "from sqlite3 import Error\n",
        "\n",
        "\n",
        "def create_connection(db_file):\n",
        "    \"\"\" create a database connection to a SQLite database \"\"\"\n",
        "    conn = None\n",
        "    try:\n",
        "        conn = sqlite3.connect(db_file)\n",
        "        print(sqlite3.version)\n",
        "    except Error as e:\n",
        "        print(e)\n",
        "    finally:\n",
        "        if conn:\n",
        "            conn.close()\n",
        "\n",
        "\n",
        "if __name__ == '__main__':\n",
        "    create_connection(r\"C:\\sqlite\\db\\pythonsqlite.db\")\n"
      ],
      "execution_count": 3,
      "outputs": [
        {
          "output_type": "stream",
          "name": "stdout",
          "text": [
            "2.6.0\n"
          ]
        }
      ]
    },
    {
      "cell_type": "markdown",
      "metadata": {
        "id": "Ucv4Wojqe4Di"
      },
      "source": [
        "## Creating a new table (Movies) "
      ]
    },
    {
      "cell_type": "code",
      "metadata": {
        "colab": {
          "base_uri": "https://localhost:8080/"
        },
        "id": "6OntntfRfULK",
        "outputId": "af08594c-1c7a-4b69-b880-b097862619ee"
      },
      "source": [
        "import sqlite3;\n",
        "import pandas as pd;\n",
        "\n",
        "con=None\n",
        "\n",
        "def getConnection():\n",
        "    databaseFile=\"./test.db\"\n",
        "    global con\n",
        "    if con == None:\n",
        "        con=sqlite3.connect(databaseFile)\n",
        "    return con\n",
        "\n",
        "def createTable(con):\n",
        "    try:\n",
        "        c = con.cursor()\n",
        "        c.execute(\"\"\"CREATE TABLE IF NOT EXISTS Movie\n",
        "                 (start, end, score)\"\"\")\n",
        "    except Exception as e:\n",
        "        pass\n",
        "\n",
        "def insert(con):\n",
        "  c = con.cursor()\n",
        "  c.execute(\"\"\"INSERT INTO Movie (start, end, score)\n",
        "          values(1, 99, 123)\"\"\")\n",
        "\n",
        "def queryExec():\n",
        "    con=getConnection()\n",
        "    createTable(con)\n",
        "    insert(con)\n",
        "    # r = con.execute(\"\"\"SELECT * FROM Movie\"\"\")\n",
        "    result=pd.read_sql_query(\"select * from Movie;\",con)\n",
        "    return result\n",
        "\n",
        "\n",
        "r = queryExec()\n",
        "print(r)"
      ],
      "execution_count": 9,
      "outputs": [
        {
          "output_type": "stream",
          "name": "stdout",
          "text": [
            "   start  end  score\n",
            "0      1   99    123\n"
          ]
        }
      ]
    },
    {
      "cell_type": "code",
      "metadata": {
        "id": "Wl9CxNlykiEX"
      },
      "source": [
        ""
      ],
      "execution_count": null,
      "outputs": []
    }
  ]
}